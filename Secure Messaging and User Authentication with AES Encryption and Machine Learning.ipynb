{
 "cells": [
  {
   "cell_type": "code",
   "execution_count": 3,
   "id": "9d74d481",
   "metadata": {},
   "outputs": [
    {
     "name": "stdout",
     "output_type": "stream",
     "text": [
      "Requirement already satisfied: cryptography in c:\\users\\harsh\\anaconda3\\lib\\site-packages (39.0.1)\n",
      "Requirement already satisfied: cffi>=1.12 in c:\\users\\harsh\\anaconda3\\lib\\site-packages (from cryptography) (1.15.0)\n",
      "Requirement already satisfied: pycparser in c:\\users\\harsh\\anaconda3\\lib\\site-packages (from cffi>=1.12->cryptography) (2.21)\n",
      "Note: you may need to restart the kernel to use updated packages.\n"
     ]
    }
   ],
   "source": [
    "pip install cryptography\n"
   ]
  },
  {
   "cell_type": "code",
   "execution_count": 4,
   "id": "eeed4629",
   "metadata": {},
   "outputs": [],
   "source": [
    "# Task 1: Try to build or change an existing algorithm to secure message send by the user based on efficiency\n",
    "\n",
    "from cryptography.hazmat.primitives.ciphers import Cipher, algorithms, modes\n",
    "from cryptography.hazmat.primitives.kdf.pbkdf2 import PBKDF2HMAC\n",
    "from cryptography.hazmat.primitives import hashes\n",
    "from cryptography.hazmat.backends import default_backend\n",
    "from cryptography.hazmat.primitives.kdf.scrypt import Scrypt\n",
    "from base64 import urlsafe_b64encode, urlsafe_b64decode\n",
    "import os\n",
    "\n",
    "# Encrypting the message\n",
    "def encrypt_message(message, password):\n",
    "    backend = default_backend()\n",
    "    salt = os.urandom(16)\n",
    "    kdf = Scrypt(\n",
    "        salt=salt,\n",
    "        length=32,\n",
    "        n=2**14,\n",
    "        r=8,\n",
    "        p=1,\n",
    "        backend=backend\n",
    "    )\n",
    "    key = kdf.derive(password.encode())\n",
    "    iv = os.urandom(12)\n",
    "    cipher = Cipher(algorithms.AES(key), modes.GCM(iv), backend=backend)\n",
    "    encryptor = cipher.encryptor()\n",
    "    ciphertext = encryptor.update(message.encode()) + encryptor.finalize()\n",
    "\n",
    "    return urlsafe_b64encode(salt + iv + ciphertext + encryptor.tag).decode()"
   ]
  },
  {
   "cell_type": "code",
   "execution_count": 11,
   "id": "0bbed5c0",
   "metadata": {},
   "outputs": [
    {
     "name": "stdout",
     "output_type": "stream",
     "text": [
      "Encrypted Message: JtgVgwKQ_yaILxgYF6R5cPq1-9kov4tc3LpU8MK100Q7TXzXfj3i2Jtrczkvhjx8_L7hoGrO-vb1Ud08ISz8qdHEHiKci5otD4yHkyiYEt0=\n",
      "Decrypted Message: This message is highly confidential.\n"
     ]
    }
   ],
   "source": [
    "# Decrypting the message\n",
    "def decrypt_message(enc_message, password):\n",
    "    backend = default_backend()\n",
    "    decoded_message = urlsafe_b64decode(enc_message.encode())\n",
    "    salt, iv, ciphertext, tag = decoded_message[:16], decoded_message[16:28], decoded_message[28:-16], decoded_message[-16:]\n",
    "    kdf = Scrypt(\n",
    "        salt=salt,\n",
    "        length=32,\n",
    "        n=2**14,\n",
    "        r=8,\n",
    "        p=1,\n",
    "        backend=backend\n",
    "    )\n",
    "    key = kdf.derive(password.encode())\n",
    "    cipher = Cipher(algorithms.AES(key), modes.GCM(iv, tag), backend=backend)\n",
    "    decryptor = cipher.decryptor()\n",
    "    return decryptor.update(ciphertext) + decryptor.finalize()\n",
    "\n",
    "# Test the functions\n",
    "if __name__ == \"__main__\":\n",
    "    message = \"This message is highly confidential.\"\n",
    "    password = \"security\"\n",
    "    \n",
    "    enc_message = encrypt_message(message, password)\n",
    "    print(\"Encrypted Message:\", enc_message)\n",
    "    \n",
    "    dec_message = decrypt_message(enc_message, password)\n",
    "    print(\"Decrypted Message:\", dec_message.decode())"
   ]
  },
  {
   "cell_type": "code",
   "execution_count": 5,
   "id": "b4181d9b",
   "metadata": {},
   "outputs": [
    {
     "name": "stdout",
     "output_type": "stream",
     "text": [
      "Requirement already satisfied: sklearn in c:\\users\\harsh\\anaconda3\\lib\\site-packages (0.0)\n",
      "Requirement already satisfied: scikit-learn in c:\\users\\harsh\\anaconda3\\lib\\site-packages (from sklearn) (1.0.2)\n",
      "Requirement already satisfied: threadpoolctl>=2.0.0 in c:\\users\\harsh\\anaconda3\\lib\\site-packages (from scikit-learn->sklearn) (2.2.0)\n",
      "Requirement already satisfied: scipy>=1.1.0 in c:\\users\\harsh\\anaconda3\\lib\\site-packages (from scikit-learn->sklearn) (1.11.2)\n",
      "Requirement already satisfied: joblib>=0.11 in c:\\users\\harsh\\anaconda3\\lib\\site-packages (from scikit-learn->sklearn) (1.1.0)\n",
      "Requirement already satisfied: numpy>=1.14.6 in c:\\users\\harsh\\anaconda3\\lib\\site-packages (from scikit-learn->sklearn) (1.23.5)\n",
      "Note: you may need to restart the kernel to use updated packages.\n"
     ]
    }
   ],
   "source": [
    "pip install sklearn\n"
   ]
  },
  {
   "cell_type": "code",
   "execution_count": 6,
   "id": "dffd0a8f",
   "metadata": {},
   "outputs": [
    {
     "data": {
      "text/plain": [
       "RandomForestClassifier()"
      ]
     },
     "execution_count": 6,
     "metadata": {},
     "output_type": "execute_result"
    }
   ],
   "source": [
    "# Task 2: for User Authentication and Validation\n",
    "\n",
    "import getpass\n",
    "from sklearn.ensemble import RandomForestClassifier\n",
    "from sklearn.model_selection import train_test_split\n",
    "from sklearn.metrics import accuracy_score\n",
    "import numpy as np\n",
    "\n",
    "# Sample dataset representing user's typing speed patterns (input for ML model)\n",
    "# This is just a placeholder dataset; in practice, this data would be collected from user behavior\n",
    "user_data = np.array([\n",
    "    [0.1, 0.2, 0.15, 0.18, 0.25],  # User 1 typing pattern\n",
    "    [0.12, 0.22, 0.18, 0.17, 0.24], # User 2 typing pattern\n",
    "    [0.11, 0.19, 0.16, 0.20, 0.21], # User 3 typing pattern\n",
    "    # Add more patterns here...\n",
    "])\n",
    "labels = np.array([1, 0, 1])  # Labels corresponding to user identity (1 = authorized, 0 = unauthorized)\n",
    "\n",
    "# Train an ML model to validate user identity\n",
    "X_train, X_test, y_train, y_test = train_test_split(user_data, labels, test_size=0.2, random_state=42)\n",
    "model = RandomForestClassifier()\n",
    "model.fit(X_train, y_train)"
   ]
  },
  {
   "cell_type": "code",
   "execution_count": 7,
   "id": "68b367f2",
   "metadata": {},
   "outputs": [
    {
     "name": "stdout",
     "output_type": "stream",
     "text": [
      "Enter your password: ········\n",
      "Password is correct.\n",
      "User identity validated.\n"
     ]
    }
   ],
   "source": [
    "# Simulate user input for authentication\n",
    "def authenticate_user():\n",
    "    password = getpass.getpass(\"Enter your password: \")\n",
    "    if password == \"security\":  # Password validation (in practice, use a hash)\n",
    "        print(\"Password is correct.\")\n",
    "        return True\n",
    "    else:\n",
    "        print(\"Password is incorrect.\")\n",
    "        return False\n",
    "\n",
    "def validate_user_typing(typing_pattern):\n",
    "    # Predict the user's identity based on typing pattern\n",
    "    prediction = model.predict([typing_pattern])\n",
    "    if prediction == 1:\n",
    "        print(\"User identity validated.\")\n",
    "        return True\n",
    "    else:\n",
    "        print(\"User identity validation failed.\")\n",
    "        return False\n",
    "\n",
    "if __name__ == \"__main__\":\n",
    "    # Authenticate user by password\n",
    "    if authenticate_user():\n",
    "        # Simulate a typing pattern for validation (in practice, capture real typing data)\n",
    "        typing_pattern = [0.1, 0.2, 0.16, 0.19, 0.23]\n",
    "        validate_user_typing(typing_pattern)"
   ]
  },
  {
   "cell_type": "code",
   "execution_count": null,
   "id": "eaaadfbd",
   "metadata": {},
   "outputs": [],
   "source": []
  }
 ],
 "metadata": {
  "kernelspec": {
   "display_name": "Python 3 (ipykernel)",
   "language": "python",
   "name": "python3"
  },
  "language_info": {
   "codemirror_mode": {
    "name": "ipython",
    "version": 3
   },
   "file_extension": ".py",
   "mimetype": "text/x-python",
   "name": "python",
   "nbconvert_exporter": "python",
   "pygments_lexer": "ipython3",
   "version": "3.9.12"
  }
 },
 "nbformat": 4,
 "nbformat_minor": 5
}
